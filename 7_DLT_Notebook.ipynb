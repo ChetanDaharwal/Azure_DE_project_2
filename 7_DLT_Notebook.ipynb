{
 "cells": [
  {
   "cell_type": "code",
   "execution_count": 0,
   "metadata": {
    "application/vnd.databricks.v1+cell": {
     "cellMetadata": {},
     "inputWidgets": {},
     "nuid": "9a8e97f5-3053-401e-af2f-4fcfc3055d0d",
     "showTitle": false,
     "tableResultSettingsMap": {},
     "title": ""
    }
   },
   "outputs": [],
   "source": [
    "from pyspark.sql.functions import *\n"
   ]
  },
  {
   "cell_type": "code",
   "execution_count": 0,
   "metadata": {
    "application/vnd.databricks.v1+cell": {
     "cellMetadata": {},
     "inputWidgets": {},
     "nuid": "29e8b819-8eb7-4957-a090-a09f4274803a",
     "showTitle": false,
     "tableResultSettingsMap": {},
     "title": ""
    }
   },
   "outputs": [],
   "source": [
    "looktable_rules= {\n",
    "    \"rule1\" : \"show_id is NOT NULL\"\n",
    "}"
   ]
  },
  {
   "cell_type": "code",
   "execution_count": 0,
   "metadata": {
    "application/vnd.databricks.v1+cell": {
     "cellMetadata": {},
     "inputWidgets": {},
     "nuid": "d5421b55-6642-490f-949a-4a1687ffffe8",
     "showTitle": false,
     "tableResultSettingsMap": {},
     "title": ""
    }
   },
   "outputs": [],
   "source": [
    "@dlt.table(\n",
    "    name=\"gold_netflixdirectors\"\n",
    ")\n",
    "@dlt.expect_all_or_drop(looktable_rules)\n",
    "def myfunc():\n",
    "     df=spark.readStream.format(\"delta\").load(\"abfss://silver@netflixprojectdlchetan.dfs.core.windows.net/netflix_directors\")\n",
    "     return df"
   ]
  },
  {
   "cell_type": "code",
   "execution_count": 0,
   "metadata": {
    "application/vnd.databricks.v1+cell": {
     "cellMetadata": {},
     "inputWidgets": {},
     "nuid": "3adc7cdd-64f3-4ab4-9684-44b85f48e08d",
     "showTitle": false,
     "tableResultSettingsMap": {},
     "title": ""
    }
   },
   "outputs": [],
   "source": [
    "@dlt.table(\n",
    "    name=\"gold_netflixcast\"\n",
    ")\n",
    "@dlt.expect_all_or_drop(looktable_rules)\n",
    "def myfunc():\n",
    "     df=spark.readStream.format(\"delta\").load(\"abfss://silver@netflixprojectdlchetan.dfs.core.windows.net/netflix_cast\")\n",
    "     return df"
   ]
  },
  {
   "cell_type": "code",
   "execution_count": 0,
   "metadata": {
    "application/vnd.databricks.v1+cell": {
     "cellMetadata": {},
     "inputWidgets": {},
     "nuid": "4af7d6af-0a2a-4396-a80a-4b62692bcb42",
     "showTitle": false,
     "tableResultSettingsMap": {},
     "title": ""
    }
   },
   "outputs": [],
   "source": [
    "@dlt.table(\n",
    "    name=\"gold_netflixcountries\"\n",
    ")\n",
    "@dlt.expect_all_or_drop(looktable_rules)\n",
    "def myfunc():\n",
    "     df=spark.readStream.format(\"delta\").load(\"abfss://silver@netflixprojectdlchetan.dfs.core.windows.net/netflix_countries\")\n",
    "     return df"
   ]
  },
  {
   "cell_type": "code",
   "execution_count": 0,
   "metadata": {
    "application/vnd.databricks.v1+cell": {
     "cellMetadata": {},
     "inputWidgets": {},
     "nuid": "46684c29-afad-444d-9b21-dbf0bd19cbd5",
     "showTitle": false,
     "tableResultSettingsMap": {},
     "title": ""
    }
   },
   "outputs": [],
   "source": [
    "@dlt.table(\n",
    "    name=\"gold_netflixcategory\"\n",
    ")\n",
    "@dlt.expect_all_or_drop(looktable_rules)\n",
    "def myfunc():\n",
    "     df=spark.readStream.format(\"delta\").load(\"abfss://silver@netflixprojectdlchetan.dfs.core.windows.net/netflix_category\")\n",
    "     return df"
   ]
  },
  {
   "cell_type": "code",
   "execution_count": 0,
   "metadata": {
    "application/vnd.databricks.v1+cell": {
     "cellMetadata": {},
     "inputWidgets": {},
     "nuid": "2e0ad795-f042-41ef-8ecb-618e95816dee",
     "showTitle": false,
     "tableResultSettingsMap": {},
     "title": ""
    }
   },
   "outputs": [],
   "source": [
    "@dlt.table\n",
    "def gold_stg_netflixtitles():\n",
    "  df=spark.readStream.format(\"delta\").load(\"abfss://silver@netflixprojectdlchetan.dfs.core.windows.net/netflix_titles\")\n",
    "  return df"
   ]
  },
  {
   "cell_type": "code",
   "execution_count": 0,
   "metadata": {
    "application/vnd.databricks.v1+cell": {
     "cellMetadata": {},
     "inputWidgets": {},
     "nuid": "0f1500f2-8b53-40a9-98c4-7a826a973059",
     "showTitle": false,
     "tableResultSettingsMap": {},
     "title": ""
    }
   },
   "outputs": [],
   "source": [
    "@dlt.view\n",
    "def gold_trns_netflixtitles():\n",
    "  df=spark.readStream.table(\"gold_stg_netflixtitles\")\n",
    "  df = df.withColumn(\"newflag\",lit('1'))\n",
    "  return df"
   ]
  },
  {
   "cell_type": "code",
   "execution_count": 0,
   "metadata": {
    "application/vnd.databricks.v1+cell": {
     "cellMetadata": {},
     "inputWidgets": {},
     "nuid": "8152798c-fd2c-4f2b-8c73-03f0233cf7d1",
     "showTitle": false,
     "tableResultSettingsMap": {},
     "title": ""
    }
   },
   "outputs": [],
   "source": [
    "masterdata _rules={\n",
    "    \"rule1\" : \"newflag is NOT NULL\",\n",
    "    \"rule2\" : \"show_id is NOT NULL\"\n",
    "}"
   ]
  },
  {
   "cell_type": "code",
   "execution_count": 0,
   "metadata": {
    "application/vnd.databricks.v1+cell": {
     "cellMetadata": {},
     "inputWidgets": {},
     "nuid": "922d3c39-6bc0-4bd4-9162-736fdfb2c3cb",
     "showTitle": false,
     "tableResultSettingsMap": {},
     "title": ""
    }
   },
   "outputs": [],
   "source": [
    "@dlt.table\n",
    "@dlt.expect_all_or_drop(masterdata_rules)\n",
    "def goldnetflixtitles():\n",
    "  df=spark.readStream.table(\"gold_trns_netflixtitles\")\n",
    "  return df"
   ]
  }
 ],
 "metadata": {
  "application/vnd.databricks.v1+notebook": {
   "computePreferences": null,
   "dashboards": [],
   "environmentMetadata": {
    "base_environment": "",
    "environment_version": "2"
   },
   "inputWidgetPreferences": null,
   "language": "python",
   "notebookMetadata": {
    "pythonIndentUnit": 4
   },
   "notebookName": "7_DLT_Notebook",
   "widgets": {}
  },
  "language_info": {
   "name": "python"
  }
 },
 "nbformat": 4,
 "nbformat_minor": 0
}